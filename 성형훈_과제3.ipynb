{
 "cells": [
  {
   "cell_type": "code",
   "execution_count": 41,
   "id": "639a23e5",
   "metadata": {},
   "outputs": [],
   "source": [
    "import time \n",
    "from selenium import webdriver\n",
    "import pandas as pd\n",
    "from bs4 import BeautifulSoup\n",
    "\n"
   ]
  },
  {
   "cell_type": "code",
   "execution_count": 45,
   "id": "3bf3b02b",
   "metadata": {},
   "outputs": [],
   "source": [
    "url = \"https://book.naver.com/\"\n",
    "driver = webdriver.Chrome(\"./driver/chromedriver\") # windows .exe \n",
    "driver.get(url)\n",
    "book_name = driver.find_element_by_id(\"nx_query\")\n",
    "book_name.send_keys(\"파이썬\")\n",
    "driver.find_element_by_xpath('//*[@id=\"search_btn\"]').click()"
   ]
  },
  {
   "cell_type": "code",
   "execution_count": 42,
   "id": "fefca34b",
   "metadata": {},
   "outputs": [],
   "source": [
    "driver.quit()"
   ]
  },
  {
   "cell_type": "code",
   "execution_count": 46,
   "id": "3edba8c8",
   "metadata": {},
   "outputs": [
    {
     "ename": "StaleElementReferenceException",
     "evalue": "Message: stale element reference: element is not attached to the page document\n  (Session info: chrome=94.0.4606.81)\n",
     "output_type": "error",
     "traceback": [
      "\u001b[1;31m---------------------------------------------------------------------------\u001b[0m",
      "\u001b[1;31mStaleElementReferenceException\u001b[0m            Traceback (most recent call last)",
      "\u001b[1;32m~\\AppData\\Local\\Temp/ipykernel_808/1931125088.py\u001b[0m in \u001b[0;36m<module>\u001b[1;34m\u001b[0m\n\u001b[0;32m     16\u001b[0m \u001b[0mbook_search\u001b[0m \u001b[1;33m=\u001b[0m \u001b[0msoup\u001b[0m\u001b[1;33m.\u001b[0m\u001b[0mselect\u001b[0m\u001b[1;33m(\u001b[0m\u001b[1;34m'#searchBiblioList'\u001b[0m\u001b[1;33m)\u001b[0m\u001b[1;33m\u001b[0m\u001b[1;33m\u001b[0m\u001b[0m\n\u001b[0;32m     17\u001b[0m \u001b[0mbook_list\u001b[0m\u001b[1;33m.\u001b[0m\u001b[0mappend\u001b[0m\u001b[1;33m(\u001b[0m\u001b[0mbook_search\u001b[0m\u001b[1;33m)\u001b[0m\u001b[1;33m\u001b[0m\u001b[1;33m\u001b[0m\u001b[0m\n\u001b[1;32m---> 18\u001b[1;33m \u001b[0mdriver\u001b[0m\u001b[1;33m.\u001b[0m\u001b[0mfind_element_by_css_selector\u001b[0m\u001b[1;33m(\u001b[0m\u001b[1;34m'#content > div.paginate > a:nth-child(7)'\u001b[0m\u001b[1;33m)\u001b[0m\u001b[1;33m.\u001b[0m\u001b[0mclick\u001b[0m\u001b[1;33m(\u001b[0m\u001b[1;33m)\u001b[0m\u001b[1;33m\u001b[0m\u001b[1;33m\u001b[0m\u001b[0m\n\u001b[0m\u001b[0;32m     19\u001b[0m \u001b[0mbook_search\u001b[0m \u001b[1;33m=\u001b[0m \u001b[0msoup\u001b[0m\u001b[1;33m.\u001b[0m\u001b[0mselect\u001b[0m\u001b[1;33m(\u001b[0m\u001b[1;34m'#searchBiblioList'\u001b[0m\u001b[1;33m)\u001b[0m\u001b[1;33m\u001b[0m\u001b[1;33m\u001b[0m\u001b[0m\n\u001b[0;32m     20\u001b[0m \u001b[0mbook_list\u001b[0m\u001b[1;33m.\u001b[0m\u001b[0mappend\u001b[0m\u001b[1;33m(\u001b[0m\u001b[0mbook_search\u001b[0m\u001b[1;33m)\u001b[0m\u001b[1;33m\u001b[0m\u001b[1;33m\u001b[0m\u001b[0m\n",
      "\u001b[1;32m~\\miniconda3\\lib\\site-packages\\selenium\\webdriver\\remote\\webelement.py\u001b[0m in \u001b[0;36mclick\u001b[1;34m(self)\u001b[0m\n\u001b[0;32m     78\u001b[0m     \u001b[1;32mdef\u001b[0m \u001b[0mclick\u001b[0m\u001b[1;33m(\u001b[0m\u001b[0mself\u001b[0m\u001b[1;33m)\u001b[0m\u001b[1;33m:\u001b[0m\u001b[1;33m\u001b[0m\u001b[1;33m\u001b[0m\u001b[0m\n\u001b[0;32m     79\u001b[0m         \u001b[1;34m\"\"\"Clicks the element.\"\"\"\u001b[0m\u001b[1;33m\u001b[0m\u001b[1;33m\u001b[0m\u001b[0m\n\u001b[1;32m---> 80\u001b[1;33m         \u001b[0mself\u001b[0m\u001b[1;33m.\u001b[0m\u001b[0m_execute\u001b[0m\u001b[1;33m(\u001b[0m\u001b[0mCommand\u001b[0m\u001b[1;33m.\u001b[0m\u001b[0mCLICK_ELEMENT\u001b[0m\u001b[1;33m)\u001b[0m\u001b[1;33m\u001b[0m\u001b[1;33m\u001b[0m\u001b[0m\n\u001b[0m\u001b[0;32m     81\u001b[0m \u001b[1;33m\u001b[0m\u001b[0m\n\u001b[0;32m     82\u001b[0m     \u001b[1;32mdef\u001b[0m \u001b[0msubmit\u001b[0m\u001b[1;33m(\u001b[0m\u001b[0mself\u001b[0m\u001b[1;33m)\u001b[0m\u001b[1;33m:\u001b[0m\u001b[1;33m\u001b[0m\u001b[1;33m\u001b[0m\u001b[0m\n",
      "\u001b[1;32m~\\miniconda3\\lib\\site-packages\\selenium\\webdriver\\remote\\webelement.py\u001b[0m in \u001b[0;36m_execute\u001b[1;34m(self, command, params)\u001b[0m\n\u001b[0;32m    631\u001b[0m             \u001b[0mparams\u001b[0m \u001b[1;33m=\u001b[0m \u001b[1;33m{\u001b[0m\u001b[1;33m}\u001b[0m\u001b[1;33m\u001b[0m\u001b[1;33m\u001b[0m\u001b[0m\n\u001b[0;32m    632\u001b[0m         \u001b[0mparams\u001b[0m\u001b[1;33m[\u001b[0m\u001b[1;34m'id'\u001b[0m\u001b[1;33m]\u001b[0m \u001b[1;33m=\u001b[0m \u001b[0mself\u001b[0m\u001b[1;33m.\u001b[0m\u001b[0m_id\u001b[0m\u001b[1;33m\u001b[0m\u001b[1;33m\u001b[0m\u001b[0m\n\u001b[1;32m--> 633\u001b[1;33m         \u001b[1;32mreturn\u001b[0m \u001b[0mself\u001b[0m\u001b[1;33m.\u001b[0m\u001b[0m_parent\u001b[0m\u001b[1;33m.\u001b[0m\u001b[0mexecute\u001b[0m\u001b[1;33m(\u001b[0m\u001b[0mcommand\u001b[0m\u001b[1;33m,\u001b[0m \u001b[0mparams\u001b[0m\u001b[1;33m)\u001b[0m\u001b[1;33m\u001b[0m\u001b[1;33m\u001b[0m\u001b[0m\n\u001b[0m\u001b[0;32m    634\u001b[0m \u001b[1;33m\u001b[0m\u001b[0m\n\u001b[0;32m    635\u001b[0m     \u001b[1;32mdef\u001b[0m \u001b[0mfind_element\u001b[0m\u001b[1;33m(\u001b[0m\u001b[0mself\u001b[0m\u001b[1;33m,\u001b[0m \u001b[0mby\u001b[0m\u001b[1;33m=\u001b[0m\u001b[0mBy\u001b[0m\u001b[1;33m.\u001b[0m\u001b[0mID\u001b[0m\u001b[1;33m,\u001b[0m \u001b[0mvalue\u001b[0m\u001b[1;33m=\u001b[0m\u001b[1;32mNone\u001b[0m\u001b[1;33m)\u001b[0m\u001b[1;33m:\u001b[0m\u001b[1;33m\u001b[0m\u001b[1;33m\u001b[0m\u001b[0m\n",
      "\u001b[1;32m~\\miniconda3\\lib\\site-packages\\selenium\\webdriver\\remote\\webdriver.py\u001b[0m in \u001b[0;36mexecute\u001b[1;34m(self, driver_command, params)\u001b[0m\n\u001b[0;32m    319\u001b[0m         \u001b[0mresponse\u001b[0m \u001b[1;33m=\u001b[0m \u001b[0mself\u001b[0m\u001b[1;33m.\u001b[0m\u001b[0mcommand_executor\u001b[0m\u001b[1;33m.\u001b[0m\u001b[0mexecute\u001b[0m\u001b[1;33m(\u001b[0m\u001b[0mdriver_command\u001b[0m\u001b[1;33m,\u001b[0m \u001b[0mparams\u001b[0m\u001b[1;33m)\u001b[0m\u001b[1;33m\u001b[0m\u001b[1;33m\u001b[0m\u001b[0m\n\u001b[0;32m    320\u001b[0m         \u001b[1;32mif\u001b[0m \u001b[0mresponse\u001b[0m\u001b[1;33m:\u001b[0m\u001b[1;33m\u001b[0m\u001b[1;33m\u001b[0m\u001b[0m\n\u001b[1;32m--> 321\u001b[1;33m             \u001b[0mself\u001b[0m\u001b[1;33m.\u001b[0m\u001b[0merror_handler\u001b[0m\u001b[1;33m.\u001b[0m\u001b[0mcheck_response\u001b[0m\u001b[1;33m(\u001b[0m\u001b[0mresponse\u001b[0m\u001b[1;33m)\u001b[0m\u001b[1;33m\u001b[0m\u001b[1;33m\u001b[0m\u001b[0m\n\u001b[0m\u001b[0;32m    322\u001b[0m             response['value'] = self._unwrap_value(\n\u001b[0;32m    323\u001b[0m                 response.get('value', None))\n",
      "\u001b[1;32m~\\miniconda3\\lib\\site-packages\\selenium\\webdriver\\remote\\errorhandler.py\u001b[0m in \u001b[0;36mcheck_response\u001b[1;34m(self, response)\u001b[0m\n\u001b[0;32m    240\u001b[0m                 \u001b[0malert_text\u001b[0m \u001b[1;33m=\u001b[0m \u001b[0mvalue\u001b[0m\u001b[1;33m[\u001b[0m\u001b[1;34m'alert'\u001b[0m\u001b[1;33m]\u001b[0m\u001b[1;33m.\u001b[0m\u001b[0mget\u001b[0m\u001b[1;33m(\u001b[0m\u001b[1;34m'text'\u001b[0m\u001b[1;33m)\u001b[0m\u001b[1;33m\u001b[0m\u001b[1;33m\u001b[0m\u001b[0m\n\u001b[0;32m    241\u001b[0m             \u001b[1;32mraise\u001b[0m \u001b[0mexception_class\u001b[0m\u001b[1;33m(\u001b[0m\u001b[0mmessage\u001b[0m\u001b[1;33m,\u001b[0m \u001b[0mscreen\u001b[0m\u001b[1;33m,\u001b[0m \u001b[0mstacktrace\u001b[0m\u001b[1;33m,\u001b[0m \u001b[0malert_text\u001b[0m\u001b[1;33m)\u001b[0m\u001b[1;33m\u001b[0m\u001b[1;33m\u001b[0m\u001b[0m\n\u001b[1;32m--> 242\u001b[1;33m         \u001b[1;32mraise\u001b[0m \u001b[0mexception_class\u001b[0m\u001b[1;33m(\u001b[0m\u001b[0mmessage\u001b[0m\u001b[1;33m,\u001b[0m \u001b[0mscreen\u001b[0m\u001b[1;33m,\u001b[0m \u001b[0mstacktrace\u001b[0m\u001b[1;33m)\u001b[0m\u001b[1;33m\u001b[0m\u001b[1;33m\u001b[0m\u001b[0m\n\u001b[0m\u001b[0;32m    243\u001b[0m \u001b[1;33m\u001b[0m\u001b[0m\n\u001b[0;32m    244\u001b[0m     \u001b[1;32mdef\u001b[0m \u001b[0m_value_or_default\u001b[0m\u001b[1;33m(\u001b[0m\u001b[0mself\u001b[0m\u001b[1;33m,\u001b[0m \u001b[0mobj\u001b[0m\u001b[1;33m,\u001b[0m \u001b[0mkey\u001b[0m\u001b[1;33m,\u001b[0m \u001b[0mdefault\u001b[0m\u001b[1;33m)\u001b[0m\u001b[1;33m:\u001b[0m\u001b[1;33m\u001b[0m\u001b[1;33m\u001b[0m\u001b[0m\n",
      "\u001b[1;31mStaleElementReferenceException\u001b[0m: Message: stale element reference: element is not attached to the page document\n  (Session info: chrome=94.0.4606.81)\n"
     ]
    }
   ],
   "source": [
    "book_list = []\n",
    "soup = BeautifulSoup(driver.page_source, 'html.parser')\n",
    "book_search = soup.select('#searchBiblioList')\n",
    "book_list.append(book_search)\n",
    "driver.execute_script(\"window.scrollTo(0, 3000)\")\n",
    "driver.find_element_by_css_selector('#content > div.paginate > a:nth-child(3)').click()\n",
    "book_search = soup.select('#searchBiblioList')\n",
    "book_list.append(book_search)\n",
    "driver.find_element_by_css_selector('#content > div.paginate > a:nth-child(4)').click()\n",
    "book_search = soup.select('#searchBiblioList')\n",
    "book_list.append(book_search)\n",
    "driver.find_element_by_css_selector('#content > div.paginate > a:nth-child(5)').click()\n",
    "book_search = soup.select('#searchBiblioList')\n",
    "book_list.append(book_search)\n",
    "driver.find_element_by_css_selector('#content > div.paginate > a:nth-child(6)').click()\n",
    "book_search = soup.select('#searchBiblioList')\n",
    "book_list.append(book_search)\n",
    "driver.find_element_by_css_selector('#content > div.paginate > a:nth-child(7)').click()\n",
    "book_search = soup.select('#searchBiblioList')\n",
    "book_list.append(book_search)\n",
    "driver.find_element_by_css_selector('#content > div.paginate > a:nth-child(8)').click()\n",
    "book_search = soup.select('#searchBiblioList')\n",
    "book_list.append(book_search)\n",
    "driver.find_element_by_css_selector('#content > div.paginate > a:nth-child(9)').click()\n",
    "book_search = soup.select('#searchBiblioList')\n",
    "book_list.append(book_search)\n",
    "driver.find_element_by_css_selector('#content > div.paginate > a:nth-child(10)').click()\n",
    "book_search = soup.select('#searchBiblioList')\n",
    "book_list.append(book_search)\n",
    "driver.find_element_by_css_selector('#content > div.paginate > a:nth-child(11)').click()\n",
    "book_search = soup.select('#searchBiblioList')\n",
    "book_list.append(book_search)\n",
    "driver.find_element_by_css_selector('#content > div.paginate > a:nth-child(12)').click()\n",
    "book_search = soup.select('#searchBiblioList')\n",
    "book_list.append(book_search)\n",
    "driver.find_element_by_css_selector('#content > div.paginate > a:nth-child(13)').click()\n",
    "book_search = soup.select('#searchBiblioList')\n",
    "book_list.append(book_search)\n",
    "driver.find_element_by_css_selector('#content > div.paginate > a:nth-child(14)').click()\n",
    "book_search = soup.select('#searchBiblioList')\n",
    "book_list.append(book_search)\n",
    "driver.find_element_by_css_selector('#content > div.paginate > a:nth-child(15)').click()\n",
    "book_search = soup.select('#searchBiblioList')\n",
    "book_list.append(book_search)\n",
    "driver.find_element_by_css_selector('#content > div.paginate > a:nth-child(16)').click()\n",
    "book_search = soup.select('#searchBiblioList')\n",
    "book_list.append(book_search)\n",
    "driver.find_element_by_css_selector('#content > div.paginate > a:nth-child(17)').click()\n",
    "book_search = soup.select('#searchBiblioList')\n",
    "book_list.append(book_search)\n",
    "driver.find_element_by_css_selector('#content > div.paginate > a:nth-child(18)').click()\n",
    "book_search = soup.select('#searchBiblioList')\n",
    "book_list.append(book_search)\n",
    "#('//*[@id=\"content\"]/div[6]/a[1]').click()\n"
   ]
  },
  {
   "cell_type": "code",
   "execution_count": null,
   "id": "6992aa12",
   "metadata": {},
   "outputs": [],
   "source": [
    "#content > div.paginate > a:nth-child(4)"
   ]
  },
  {
   "cell_type": "code",
   "execution_count": null,
   "id": "c75477e4",
   "metadata": {},
   "outputs": [],
   "source": [
    "#content > div.paginate > a:nth-child(5)\n",
    "#content > div.paginate > a:nth-child(6)"
   ]
  },
  {
   "cell_type": "code",
   "execution_count": null,
   "id": "7fe52de1",
   "metadata": {},
   "outputs": [],
   "source": [
    "book_name = driver.find_element_by_id(\"nx_query\")\n",
    "book_name.send_keys(\"파이썬\")\n",
    "some_tag = driver.find_element_by_xpath('//*[@id=\"keyword_div\"]/form/button').click()\n",
    "\n",
    "soup = BeautifulSoup(driver.page_source, 'html.parser')\n",
    "ediya_search = soup.select('li.item')\n",
    "len(ediya_search)"
   ]
  },
  {
   "cell_type": "code",
   "execution_count": null,
   "id": "0ef83006",
   "metadata": {},
   "outputs": [],
   "source": [
    "ediya_list = []\n",
    "gu_name = driver.find_element_by_id(\"keyword\")\n",
    "seoulgu = ['서울 성동구', '서울 강남구', '서울 강북구', '서울 강서구', '서울 관악구', '서울 광진구', '서울 금천구', '서울 노원구',\n",
    "       '서울 도봉구', '서울 동작구', '서울 마포구', '서울 서대문구', '서울 서초구', '서울 성북구', '서울 송파구', '서울 양천구', '서울 영등포구',\n",
    "       '서울 은평구', '서울 종로구', '서울 강동구', '서울 구로구', '서울 동대문구', '서울 용산구', '서울 중랑구', '서울 중구']\n",
    "\n",
    "for item in seoulgu:\n",
    "   \n",
    "    gu_name.send_keys(item)\n",
    "    xpath = '//*[@id=\"keyword_div\"]/form/button'\n",
    "    some_tag = driver.find_element_by_xpath(xpath).click()\n",
    "    time.sleep(3)\n",
    "    soup = BeautifulSoup(driver.page_source, 'html.parser')\n",
    "    ediya_search = soup.select('li.item')\n",
    "    ediya_list.append(ediya_search)\n",
    "    gu_name.clear()\n",
    "    time.sleep(2)"
   ]
  },
  {
   "cell_type": "code",
   "execution_count": null,
   "id": "3f59ed90",
   "metadata": {},
   "outputs": [],
   "source": []
  },
  {
   "cell_type": "code",
   "execution_count": null,
   "id": "62ece08b",
   "metadata": {},
   "outputs": [],
   "source": []
  },
  {
   "cell_type": "code",
   "execution_count": 33,
   "id": "513929b2",
   "metadata": {},
   "outputs": [],
   "source": [
    "import requests     \n",
    "from bs4 import BeautifulSoup\n",
    "\n",
    "p = {'page':1} #여러페이지를 가져와야 함으로 페이지를 지정해준다.\n",
    "cafeUrl = \"http://www.caffebene.co.kr/Content/Gnb/Store/Map.aspx?code=T5M2I2&SearchValue=\"\n",
    "c = requests.get(cafeUrl,params = p)\n",
    "cafePage = c.text\n",
    "\n",
    "soup = BeautifulSoup(cafePage, 'lxml')\n",
    "address_list = soup.find_all('address', 'addr')\n",
    "for title in address_list : #일단 첫번쨰 페이지에만 있는 테스트 해본다\n",
    "    print (title.text)\n",
    "\n",
    "\n"
   ]
  },
  {
   "cell_type": "code",
   "execution_count": 34,
   "id": "a6ce583f",
   "metadata": {},
   "outputs": [],
   "source": [
    "for pageNo in range(36):\n",
    "    p = {'page':pageNo}\n",
    "    cafeUrl = \"http://www.caffebene.co.kr/Content/Gnb/Store/Map.aspx?code=T5M2I2&SearchValue=\"\n",
    "    c = requests.get(cafeUrl,params = p)\n",
    "    cafePage = c.text\n",
    "    soup = BeautifulSoup(cafePage, 'lxml')\n",
    "    address_list = soup.find_all('address', 'addr') \n",
    "    for title in address_list :\n",
    "        print (title.text)\n",
    "\n",
    "\n"
   ]
  },
  {
   "cell_type": "code",
   "execution_count": null,
   "id": "5a4c8eeb",
   "metadata": {},
   "outputs": [],
   "source": [
    "from selenium import webdriver\n",
    "from webdriver_manager.chrome import ChromeDriverManager\n",
    "from bs4 import BeautifulSoup\n",
    "import time\n",
    "import csv\n"
   ]
  },
  {
   "cell_type": "code",
   "execution_count": null,
   "id": "a19c80f5",
   "metadata": {},
   "outputs": [],
   "source": []
  },
  {
   "cell_type": "code",
   "execution_count": null,
   "id": "b82930ee",
   "metadata": {},
   "outputs": [],
   "source": []
  },
  {
   "cell_type": "code",
   "execution_count": null,
   "id": "2f00f58d",
   "metadata": {},
   "outputs": [],
   "source": []
  },
  {
   "cell_type": "code",
   "execution_count": null,
   "id": "65289bf6",
   "metadata": {},
   "outputs": [],
   "source": []
  },
  {
   "cell_type": "code",
   "execution_count": null,
   "id": "ec3d53a4",
   "metadata": {},
   "outputs": [],
   "source": []
  }
 ],
 "metadata": {
  "kernelspec": {
   "display_name": "Python 3 (ipykernel)",
   "language": "python",
   "name": "python3"
  },
  "language_info": {
   "codemirror_mode": {
    "name": "ipython",
    "version": 3
   },
   "file_extension": ".py",
   "mimetype": "text/x-python",
   "name": "python",
   "nbconvert_exporter": "python",
   "pygments_lexer": "ipython3",
   "version": "3.9.5"
  }
 },
 "nbformat": 4,
 "nbformat_minor": 5
}
