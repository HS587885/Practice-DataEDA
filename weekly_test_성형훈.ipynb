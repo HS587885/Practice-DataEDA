{
 "cells": [
  {
   "cell_type": "code",
   "execution_count": 74,
   "id": "4830f2fc",
   "metadata": {},
   "outputs": [
    {
     "data": {
      "text/plain": [
       "{'이름': ['이경규', '이승엽', '이승기', '유현주'],\n",
       " '번호': ['010-1212-7979', '010-1010-2121', '010-1211-0901', '010-3821-1231'],\n",
       " '성적': [90, 80, 100, 72]}"
      ]
     },
     "execution_count": 74,
     "metadata": {},
     "output_type": "execute_result"
    }
   ],
   "source": [
    "#문제1\n",
    "\n",
    "list_of_friends = {\n",
    "    '이름' : ['이경규', '이승엽', '이승기', '유현주'],\n",
    "    '번호' : ['010-1212-7979', '010-1010-2121', '010-1211-0901', '010-3821-1231'],\n",
    "    '성적' : [90, 80, 100, 72]\n",
    "    \n",
    "    \n",
    "}\n",
    "\n",
    "list_of_friends"
   ]
  },
  {
   "cell_type": "code",
   "execution_count": 75,
   "id": "084ab490",
   "metadata": {},
   "outputs": [
    {
     "data": {
      "text/html": [
       "<div>\n",
       "<style scoped>\n",
       "    .dataframe tbody tr th:only-of-type {\n",
       "        vertical-align: middle;\n",
       "    }\n",
       "\n",
       "    .dataframe tbody tr th {\n",
       "        vertical-align: top;\n",
       "    }\n",
       "\n",
       "    .dataframe thead th {\n",
       "        text-align: right;\n",
       "    }\n",
       "</style>\n",
       "<table border=\"1\" class=\"dataframe\">\n",
       "  <thead>\n",
       "    <tr style=\"text-align: right;\">\n",
       "      <th></th>\n",
       "      <th>이름</th>\n",
       "      <th>번호</th>\n",
       "      <th>성적</th>\n",
       "    </tr>\n",
       "  </thead>\n",
       "  <tbody>\n",
       "    <tr>\n",
       "      <th>0</th>\n",
       "      <td>이경규</td>\n",
       "      <td>010-1212-7979</td>\n",
       "      <td>90</td>\n",
       "    </tr>\n",
       "    <tr>\n",
       "      <th>1</th>\n",
       "      <td>이승엽</td>\n",
       "      <td>010-1010-2121</td>\n",
       "      <td>80</td>\n",
       "    </tr>\n",
       "    <tr>\n",
       "      <th>2</th>\n",
       "      <td>이승기</td>\n",
       "      <td>010-1211-0901</td>\n",
       "      <td>100</td>\n",
       "    </tr>\n",
       "    <tr>\n",
       "      <th>3</th>\n",
       "      <td>유현주</td>\n",
       "      <td>010-3821-1231</td>\n",
       "      <td>72</td>\n",
       "    </tr>\n",
       "  </tbody>\n",
       "</table>\n",
       "</div>"
      ],
      "text/plain": [
       "    이름             번호   성적\n",
       "0  이경규  010-1212-7979   90\n",
       "1  이승엽  010-1010-2121   80\n",
       "2  이승기  010-1211-0901  100\n",
       "3  유현주  010-3821-1231   72"
      ]
     },
     "execution_count": 75,
     "metadata": {},
     "output_type": "execute_result"
    }
   ],
   "source": [
    "#문제2 \n",
    "import pandas as pd \n",
    "\n",
    "list_of_friends =  pd.DataFrame({ '이름' : ['이경규', '이승엽', '이승기', '유현주'],\n",
    "    '번호' : ['010-1212-7979', '010-1010-2121', '010-1211-0901', '010-3821-1231'],\n",
    "    '성적' : [90, 80, 100, 72]\n",
    "    \n",
    "    \n",
    "    \n",
    "    })\n",
    "\n",
    "list_of_friends"
   ]
  },
  {
   "cell_type": "code",
   "execution_count": 76,
   "id": "41c10c91",
   "metadata": {},
   "outputs": [
    {
     "data": {
      "text/html": [
       "<div>\n",
       "<style scoped>\n",
       "    .dataframe tbody tr th:only-of-type {\n",
       "        vertical-align: middle;\n",
       "    }\n",
       "\n",
       "    .dataframe tbody tr th {\n",
       "        vertical-align: top;\n",
       "    }\n",
       "\n",
       "    .dataframe thead th {\n",
       "        text-align: right;\n",
       "    }\n",
       "</style>\n",
       "<table border=\"1\" class=\"dataframe\">\n",
       "  <thead>\n",
       "    <tr style=\"text-align: right;\">\n",
       "      <th></th>\n",
       "      <th>이름</th>\n",
       "      <th>번호</th>\n",
       "      <th>성적</th>\n",
       "      <th>이전성적</th>\n",
       "    </tr>\n",
       "  </thead>\n",
       "  <tbody>\n",
       "    <tr>\n",
       "      <th>0</th>\n",
       "      <td>이경규</td>\n",
       "      <td>010-1212-7979</td>\n",
       "      <td>90</td>\n",
       "      <td>90</td>\n",
       "    </tr>\n",
       "    <tr>\n",
       "      <th>1</th>\n",
       "      <td>이승엽</td>\n",
       "      <td>010-1010-2121</td>\n",
       "      <td>80</td>\n",
       "      <td>80</td>\n",
       "    </tr>\n",
       "    <tr>\n",
       "      <th>2</th>\n",
       "      <td>이승기</td>\n",
       "      <td>010-1211-0901</td>\n",
       "      <td>100</td>\n",
       "      <td>110</td>\n",
       "    </tr>\n",
       "    <tr>\n",
       "      <th>3</th>\n",
       "      <td>유현주</td>\n",
       "      <td>010-3821-1231</td>\n",
       "      <td>72</td>\n",
       "      <td>80</td>\n",
       "    </tr>\n",
       "  </tbody>\n",
       "</table>\n",
       "</div>"
      ],
      "text/plain": [
       "    이름             번호   성적  이전성적\n",
       "0  이경규  010-1212-7979   90    90\n",
       "1  이승엽  010-1010-2121   80    80\n",
       "2  이승기  010-1211-0901  100   110\n",
       "3  유현주  010-3821-1231   72    80"
      ]
     },
     "execution_count": 76,
     "metadata": {},
     "output_type": "execute_result"
    }
   ],
   "source": [
    "#문제3 \n",
    "\n",
    "list_of_friends['이전성적'] = (90, 80, 110, 80)\n",
    "\n",
    "list_of_friends"
   ]
  },
  {
   "cell_type": "code",
   "execution_count": 77,
   "id": "0f2d41d2",
   "metadata": {},
   "outputs": [
    {
     "data": {
      "text/html": [
       "<div>\n",
       "<style scoped>\n",
       "    .dataframe tbody tr th:only-of-type {\n",
       "        vertical-align: middle;\n",
       "    }\n",
       "\n",
       "    .dataframe tbody tr th {\n",
       "        vertical-align: top;\n",
       "    }\n",
       "\n",
       "    .dataframe thead th {\n",
       "        text-align: right;\n",
       "    }\n",
       "</style>\n",
       "<table border=\"1\" class=\"dataframe\">\n",
       "  <thead>\n",
       "    <tr style=\"text-align: right;\">\n",
       "      <th></th>\n",
       "      <th>이름</th>\n",
       "      <th>번호</th>\n",
       "      <th>성적</th>\n",
       "      <th>이전성적</th>\n",
       "    </tr>\n",
       "  </thead>\n",
       "  <tbody>\n",
       "    <tr>\n",
       "      <th>0</th>\n",
       "      <td>이경규</td>\n",
       "      <td>010-1212-7979</td>\n",
       "      <td>90</td>\n",
       "      <td>90</td>\n",
       "    </tr>\n",
       "  </tbody>\n",
       "</table>\n",
       "</div>"
      ],
      "text/plain": [
       "    이름             번호  성적  이전성적\n",
       "0  이경규  010-1212-7979  90    90"
      ]
     },
     "execution_count": 77,
     "metadata": {},
     "output_type": "execute_result"
    }
   ],
   "source": [
    "#문제4\n",
    "\n",
    "\n",
    "list_of_friends1 = list_of_friends.loc[list_of_friends['이름'] == '이경규']\n",
    "\n",
    "\n",
    "list_of_friends1"
   ]
  },
  {
   "cell_type": "code",
   "execution_count": 78,
   "id": "b110bbb8",
   "metadata": {},
   "outputs": [
    {
     "data": {
      "text/html": [
       "<div>\n",
       "<style scoped>\n",
       "    .dataframe tbody tr th:only-of-type {\n",
       "        vertical-align: middle;\n",
       "    }\n",
       "\n",
       "    .dataframe tbody tr th {\n",
       "        vertical-align: top;\n",
       "    }\n",
       "\n",
       "    .dataframe thead th {\n",
       "        text-align: right;\n",
       "    }\n",
       "</style>\n",
       "<table border=\"1\" class=\"dataframe\">\n",
       "  <thead>\n",
       "    <tr style=\"text-align: right;\">\n",
       "      <th></th>\n",
       "      <th>이름</th>\n",
       "      <th>번호</th>\n",
       "      <th>성적</th>\n",
       "      <th>이전성적</th>\n",
       "    </tr>\n",
       "  </thead>\n",
       "  <tbody>\n",
       "    <tr>\n",
       "      <th>0</th>\n",
       "      <td>이경규</td>\n",
       "      <td>010-1212-7979</td>\n",
       "      <td>90</td>\n",
       "      <td>90</td>\n",
       "    </tr>\n",
       "    <tr>\n",
       "      <th>1</th>\n",
       "      <td>이승엽</td>\n",
       "      <td>010-1010-2121</td>\n",
       "      <td>80</td>\n",
       "      <td>80</td>\n",
       "    </tr>\n",
       "    <tr>\n",
       "      <th>2</th>\n",
       "      <td>이승기</td>\n",
       "      <td>010-1211-0901</td>\n",
       "      <td>100</td>\n",
       "      <td>120</td>\n",
       "    </tr>\n",
       "    <tr>\n",
       "      <th>3</th>\n",
       "      <td>유현주</td>\n",
       "      <td>010-3821-1231</td>\n",
       "      <td>72</td>\n",
       "      <td>80</td>\n",
       "    </tr>\n",
       "  </tbody>\n",
       "</table>\n",
       "</div>"
      ],
      "text/plain": [
       "    이름             번호   성적  이전성적\n",
       "0  이경규  010-1212-7979   90    90\n",
       "1  이승엽  010-1010-2121   80    80\n",
       "2  이승기  010-1211-0901  100   120\n",
       "3  유현주  010-3821-1231   72    80"
      ]
     },
     "execution_count": 78,
     "metadata": {},
     "output_type": "execute_result"
    }
   ],
   "source": [
    "#문제5 \n",
    "\n",
    "list_of_friends.replace({'이전성적': 110}, {'이전성적': 120}, inplace = True)\n",
    "\n",
    "list_of_friends"
   ]
  },
  {
   "cell_type": "code",
   "execution_count": 79,
   "id": "d5cafec9",
   "metadata": {},
   "outputs": [],
   "source": [
    "#문제6\n",
    "\n",
    "list_of_friends.set_index('이름', inplace=True)\n",
    "\n"
   ]
  },
  {
   "cell_type": "code",
   "execution_count": 80,
   "id": "7feeffae",
   "metadata": {},
   "outputs": [
    {
     "data": {
      "text/html": [
       "<div>\n",
       "<style scoped>\n",
       "    .dataframe tbody tr th:only-of-type {\n",
       "        vertical-align: middle;\n",
       "    }\n",
       "\n",
       "    .dataframe tbody tr th {\n",
       "        vertical-align: top;\n",
       "    }\n",
       "\n",
       "    .dataframe thead th {\n",
       "        text-align: right;\n",
       "    }\n",
       "</style>\n",
       "<table border=\"1\" class=\"dataframe\">\n",
       "  <thead>\n",
       "    <tr style=\"text-align: right;\">\n",
       "      <th></th>\n",
       "      <th>번호</th>\n",
       "      <th>성적</th>\n",
       "      <th>이전성적</th>\n",
       "    </tr>\n",
       "    <tr>\n",
       "      <th>이름</th>\n",
       "      <th></th>\n",
       "      <th></th>\n",
       "      <th></th>\n",
       "    </tr>\n",
       "  </thead>\n",
       "  <tbody>\n",
       "    <tr>\n",
       "      <th>이경규</th>\n",
       "      <td>010-1212-7979</td>\n",
       "      <td>90</td>\n",
       "      <td>90</td>\n",
       "    </tr>\n",
       "    <tr>\n",
       "      <th>이승엽</th>\n",
       "      <td>010-1010-2121</td>\n",
       "      <td>80</td>\n",
       "      <td>80</td>\n",
       "    </tr>\n",
       "    <tr>\n",
       "      <th>이승기</th>\n",
       "      <td>010-1211-0901</td>\n",
       "      <td>100</td>\n",
       "      <td>120</td>\n",
       "    </tr>\n",
       "    <tr>\n",
       "      <th>유현주</th>\n",
       "      <td>010-3821-1231</td>\n",
       "      <td>72</td>\n",
       "      <td>80</td>\n",
       "    </tr>\n",
       "  </tbody>\n",
       "</table>\n",
       "</div>"
      ],
      "text/plain": [
       "                번호   성적  이전성적\n",
       "이름                           \n",
       "이경규  010-1212-7979   90    90\n",
       "이승엽  010-1010-2121   80    80\n",
       "이승기  010-1211-0901  100   120\n",
       "유현주  010-3821-1231   72    80"
      ]
     },
     "execution_count": 80,
     "metadata": {},
     "output_type": "execute_result"
    }
   ],
   "source": [
    "list_of_friends"
   ]
  },
  {
   "cell_type": "code",
   "execution_count": 81,
   "id": "98f3fcb8",
   "metadata": {},
   "outputs": [
    {
     "data": {
      "image/png": "[encoded data removed]",
      "text/plain": [
       "<Figure size 432x288 with 1 Axes>"
      ]
     },
     "metadata": {
      "needs_background": "light"
     },
     "output_type": "display_data"
    }
   ],
   "source": [
    "#문제7\n",
    "\n",
    "\n",
    "import matplotlib.pyplot as plt \n",
    "from matplotlib import rc\n",
    "\n",
    "plt.rcParams[\"axes.unicode_minus\"] = False\n",
    "rc(\"font\", family=\"Malgun Gothic \") \n",
    "%matplotlib inline \n",
    "get_ipython().run_line_magic(\"matplotlib\", \"inline\")\n",
    "\n",
    "list_of_friends[\"성적\"].plot(kind=\"barh\");"
   ]
  },
  {
   "cell_type": "code",
   "execution_count": 82,
   "id": "dd6c2703",
   "metadata": {},
   "outputs": [
    {
     "data": {
      "image/png": "[encoded data removed]",
      "text/plain": [
       "<Figure size 432x288 with 1 Axes>"
      ]
     },
     "metadata": {
      "needs_background": "light"
     },
     "output_type": "display_data"
    }
   ],
   "source": [
    "#문제8\n",
    "\n",
    "\n",
    "plt.rcParams[\"axes.unicode_minus\"] = False\n",
    "rc(\"font\", family=\"Malgun Gothic \") \n",
    "%matplotlib inline \n",
    "get_ipython().run_line_magic(\"matplotlib\", \"inline\")\n",
    "\n",
    " \n",
    "list_of_friends.sort_values(by='성적',ascending=False).plot(kind=\"barh\");"
   ]
  },
  {
   "cell_type": "code",
   "execution_count": 83,
   "id": "c0759b6c",
   "metadata": {},
   "outputs": [
    {
     "data": {
      "text/html": [
       "<div>\n",
       "<style scoped>\n",
       "    .dataframe tbody tr th:only-of-type {\n",
       "        vertical-align: middle;\n",
       "    }\n",
       "\n",
       "    .dataframe tbody tr th {\n",
       "        vertical-align: top;\n",
       "    }\n",
       "\n",
       "    .dataframe thead th {\n",
       "        text-align: right;\n",
       "    }\n",
       "</style>\n",
       "<table border=\"1\" class=\"dataframe\">\n",
       "  <thead>\n",
       "    <tr style=\"text-align: right;\">\n",
       "      <th></th>\n",
       "      <th>번호</th>\n",
       "      <th>성적</th>\n",
       "      <th>이전성적</th>\n",
       "      <th>성적상승율</th>\n",
       "    </tr>\n",
       "    <tr>\n",
       "      <th>이름</th>\n",
       "      <th></th>\n",
       "      <th></th>\n",
       "      <th></th>\n",
       "      <th></th>\n",
       "    </tr>\n",
       "  </thead>\n",
       "  <tbody>\n",
       "    <tr>\n",
       "      <th>이경규</th>\n",
       "      <td>010-1212-7979</td>\n",
       "      <td>90</td>\n",
       "      <td>90</td>\n",
       "      <td>100.000000</td>\n",
       "    </tr>\n",
       "    <tr>\n",
       "      <th>이승엽</th>\n",
       "      <td>010-1010-2121</td>\n",
       "      <td>80</td>\n",
       "      <td>80</td>\n",
       "      <td>100.000000</td>\n",
       "    </tr>\n",
       "    <tr>\n",
       "      <th>이승기</th>\n",
       "      <td>010-1211-0901</td>\n",
       "      <td>100</td>\n",
       "      <td>120</td>\n",
       "      <td>120.000000</td>\n",
       "    </tr>\n",
       "    <tr>\n",
       "      <th>유현주</th>\n",
       "      <td>010-3821-1231</td>\n",
       "      <td>72</td>\n",
       "      <td>80</td>\n",
       "      <td>111.111111</td>\n",
       "    </tr>\n",
       "  </tbody>\n",
       "</table>\n",
       "</div>"
      ],
      "text/plain": [
       "                번호   성적  이전성적       성적상승율\n",
       "이름                                       \n",
       "이경규  010-1212-7979   90    90  100.000000\n",
       "이승엽  010-1010-2121   80    80  100.000000\n",
       "이승기  010-1211-0901  100   120  120.000000\n",
       "유현주  010-3821-1231   72    80  111.111111"
      ]
     },
     "execution_count": 83,
     "metadata": {},
     "output_type": "execute_result"
    }
   ],
   "source": [
    "#문제9\n",
    "\n",
    "list_of_friends[\"성적상승율\"] = (\n",
    "    list_of_friends[\"이전성적\"] / list_of_friends[\"성적\"] * 100\n",
    ")\n",
    "\n",
    "\n",
    "list_of_friends"
   ]
  },
  {
   "cell_type": "code",
   "execution_count": 87,
   "id": "18be06bb",
   "metadata": {},
   "outputs": [
    {
     "data": {
      "image/png": "[encoded data removed]",
      "text/plain": [
       "<Figure size 432x288 with 1 Axes>"
      ]
     },
     "metadata": {
      "needs_background": "light"
     },
     "output_type": "display_data"
    }
   ],
   "source": [
    "#문제10\n",
    "\n",
    "plt.rcParams[\"axes.unicode_minus\"] = False\n",
    "rc(\"font\", family=\"Malgun Gothic \") \n",
    "%matplotlib inline \n",
    "get_ipython().run_line_magic(\"matplotlib\", \"inline\")\n",
    "\n",
    " \n",
    "list_of_friends.sort_values(by='성적상승율',ascending=True).plot(kind=\"barh\");\n"
   ]
  },
  {
   "cell_type": "code",
   "execution_count": null,
   "id": "71d0099f",
   "metadata": {},
   "outputs": [],
   "source": []
  }
 ],
 "metadata": {
  "kernelspec": {
   "display_name": "Python 3 (ipykernel)",
   "language": "python",
   "name": "python3"
  },
  "language_info": {
   "codemirror_mode": {
    "name": "ipython",
    "version": 3
   },
   "file_extension": ".py",
   "mimetype": "text/x-python",
   "name": "python",
   "nbconvert_exporter": "python",
   "pygments_lexer": "ipython3",
   "version": "3.9.5"
  }
 },
 "nbformat": 4,
 "nbformat_minor": 5
}
